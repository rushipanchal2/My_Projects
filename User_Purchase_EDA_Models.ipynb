{
  "nbformat": 4,
  "nbformat_minor": 0,
  "metadata": {
    "colab": {
      "provenance": []
    },
    "kernelspec": {
      "name": "python3",
      "display_name": "Python 3"
    },
    "language_info": {
      "name": "python"
    }
  },
  "cells": [
    {
      "cell_type": "markdown",
      "source": [
        "**Importing Libraries**"
      ],
      "metadata": {
        "id": "KL_0_FvQzEgu"
      }
    },
    {
      "cell_type": "code",
      "source": [
        "import pandas as pd\n",
        "import seaborn as sns\n",
        "import matplotlib.pyplot as plt\n",
        "import numpy as np\n",
        "import sqlite3\n",
        "from scipy import stats\n",
        "\n",
        "from sklearn import preprocessing\n",
        "from sklearn.ensemble import RandomForestRegressor\n",
        "from sklearn.model_selection import train_test_split\n",
        "from sklearn.metrics import mean_absolute_error\n",
        "from sklearn.model_selection import GridSearchCV\n",
        "\n",
        "import xgboost as xg"
      ],
      "metadata": {
        "id": "fUBaQQso642D"
      },
      "execution_count": null,
      "outputs": []
    },
    {
      "cell_type": "markdown",
      "source": [
        "**Reading Dataset**"
      ],
      "metadata": {
        "id": "1UaSNE4MzJzQ"
      }
    },
    {
      "cell_type": "code",
      "execution_count": null,
      "metadata": {
        "colab": {
          "base_uri": "https://localhost:8080/"
        },
        "id": "ydAgm1tZ5EoX",
        "outputId": "9259c616-b8f2-4f8a-83d0-c0285cc1da3a"
      },
      "outputs": [
        {
          "output_type": "execute_result",
          "data": {
            "text/plain": [
              "(9240, 15)"
            ]
          },
          "metadata": {},
          "execution_count": 2
        }
      ],
      "source": [
        "df = pd.read_csv(\"Sample_for_BI.csv\")\n",
        "df.shape"
      ]
    },
    {
      "cell_type": "code",
      "source": [
        "df.head()"
      ],
      "metadata": {
        "colab": {
          "base_uri": "https://localhost:8080/",
          "height": 530
        },
        "id": "2pBmI4-ODTWm",
        "outputId": "3097d5ac-5b41-4657-c9dd-d9be506fc30d"
      },
      "execution_count": null,
      "outputs": [
        {
          "output_type": "execute_result",
          "data": {
            "text/plain": [
              "   ID Country           Specialization How did you hear about Us  \\\n",
              "0   1  Russia  Business Administration             Word Of Mouth   \n",
              "1   2   India                      NaN                       NaN   \n",
              "2   3   India  Business Administration                       NaN   \n",
              "3   4   India    Media and Advertising             Word Of Mouth   \n",
              "4   5   India                      NaN                     Other   \n",
              "\n",
              "  Current_Occupation What matters most to you in choosing a course  \\\n",
              "0         Unemployed                       Better Career Prospects   \n",
              "1         Unemployed                       Better Career Prospects   \n",
              "2            Student                       Better Career Prospects   \n",
              "3         Unemployed                       Better Career Prospects   \n",
              "4         Unemployed                       Better Career Prospects   \n",
              "\n",
              "                    Origin          Source Do Not Email Do Not Call  \\\n",
              "0                      API      Olark Chat           No          No   \n",
              "1                      API  Organic Search           No          No   \n",
              "2  Landing Page Submission  Direct Traffic           No          No   \n",
              "3  Landing Page Submission  Direct Traffic           No          No   \n",
              "4  Landing Page Submission          Google           No          No   \n",
              "\n",
              "   TotalVisits  Total Time Spent on Website  Page Views Per Visit  \\\n",
              "0          0.0                            0                   0.0   \n",
              "1          5.0                          674                   2.5   \n",
              "2          2.0                         1532                   2.0   \n",
              "3          1.0                          305                   1.0   \n",
              "4          2.0                         1428                   1.0   \n",
              "\n",
              "             Last Activity Purchased  \n",
              "0  Page Visited on Website        No  \n",
              "1             Email Opened        No  \n",
              "2             Email Opened       Yes  \n",
              "3              Unreachable        No  \n",
              "4        Converted to Lead       Yes  "
            ],
            "text/html": [
              "\n",
              "  <div id=\"df-8b34cdf2-63b9-4b47-a874-eba6e980605c\">\n",
              "    <div class=\"colab-df-container\">\n",
              "      <div>\n",
              "<style scoped>\n",
              "    .dataframe tbody tr th:only-of-type {\n",
              "        vertical-align: middle;\n",
              "    }\n",
              "\n",
              "    .dataframe tbody tr th {\n",
              "        vertical-align: top;\n",
              "    }\n",
              "\n",
              "    .dataframe thead th {\n",
              "        text-align: right;\n",
              "    }\n",
              "</style>\n",
              "<table border=\"1\" class=\"dataframe\">\n",
              "  <thead>\n",
              "    <tr style=\"text-align: right;\">\n",
              "      <th></th>\n",
              "      <th>ID</th>\n",
              "      <th>Country</th>\n",
              "      <th>Specialization</th>\n",
              "      <th>How did you hear about Us</th>\n",
              "      <th>Current_Occupation</th>\n",
              "      <th>What matters most to you in choosing a course</th>\n",
              "      <th>Origin</th>\n",
              "      <th>Source</th>\n",
              "      <th>Do Not Email</th>\n",
              "      <th>Do Not Call</th>\n",
              "      <th>TotalVisits</th>\n",
              "      <th>Total Time Spent on Website</th>\n",
              "      <th>Page Views Per Visit</th>\n",
              "      <th>Last Activity</th>\n",
              "      <th>Purchased</th>\n",
              "    </tr>\n",
              "  </thead>\n",
              "  <tbody>\n",
              "    <tr>\n",
              "      <th>0</th>\n",
              "      <td>1</td>\n",
              "      <td>Russia</td>\n",
              "      <td>Business Administration</td>\n",
              "      <td>Word Of Mouth</td>\n",
              "      <td>Unemployed</td>\n",
              "      <td>Better Career Prospects</td>\n",
              "      <td>API</td>\n",
              "      <td>Olark Chat</td>\n",
              "      <td>No</td>\n",
              "      <td>No</td>\n",
              "      <td>0.0</td>\n",
              "      <td>0</td>\n",
              "      <td>0.0</td>\n",
              "      <td>Page Visited on Website</td>\n",
              "      <td>No</td>\n",
              "    </tr>\n",
              "    <tr>\n",
              "      <th>1</th>\n",
              "      <td>2</td>\n",
              "      <td>India</td>\n",
              "      <td>NaN</td>\n",
              "      <td>NaN</td>\n",
              "      <td>Unemployed</td>\n",
              "      <td>Better Career Prospects</td>\n",
              "      <td>API</td>\n",
              "      <td>Organic Search</td>\n",
              "      <td>No</td>\n",
              "      <td>No</td>\n",
              "      <td>5.0</td>\n",
              "      <td>674</td>\n",
              "      <td>2.5</td>\n",
              "      <td>Email Opened</td>\n",
              "      <td>No</td>\n",
              "    </tr>\n",
              "    <tr>\n",
              "      <th>2</th>\n",
              "      <td>3</td>\n",
              "      <td>India</td>\n",
              "      <td>Business Administration</td>\n",
              "      <td>NaN</td>\n",
              "      <td>Student</td>\n",
              "      <td>Better Career Prospects</td>\n",
              "      <td>Landing Page Submission</td>\n",
              "      <td>Direct Traffic</td>\n",
              "      <td>No</td>\n",
              "      <td>No</td>\n",
              "      <td>2.0</td>\n",
              "      <td>1532</td>\n",
              "      <td>2.0</td>\n",
              "      <td>Email Opened</td>\n",
              "      <td>Yes</td>\n",
              "    </tr>\n",
              "    <tr>\n",
              "      <th>3</th>\n",
              "      <td>4</td>\n",
              "      <td>India</td>\n",
              "      <td>Media and Advertising</td>\n",
              "      <td>Word Of Mouth</td>\n",
              "      <td>Unemployed</td>\n",
              "      <td>Better Career Prospects</td>\n",
              "      <td>Landing Page Submission</td>\n",
              "      <td>Direct Traffic</td>\n",
              "      <td>No</td>\n",
              "      <td>No</td>\n",
              "      <td>1.0</td>\n",
              "      <td>305</td>\n",
              "      <td>1.0</td>\n",
              "      <td>Unreachable</td>\n",
              "      <td>No</td>\n",
              "    </tr>\n",
              "    <tr>\n",
              "      <th>4</th>\n",
              "      <td>5</td>\n",
              "      <td>India</td>\n",
              "      <td>NaN</td>\n",
              "      <td>Other</td>\n",
              "      <td>Unemployed</td>\n",
              "      <td>Better Career Prospects</td>\n",
              "      <td>Landing Page Submission</td>\n",
              "      <td>Google</td>\n",
              "      <td>No</td>\n",
              "      <td>No</td>\n",
              "      <td>2.0</td>\n",
              "      <td>1428</td>\n",
              "      <td>1.0</td>\n",
              "      <td>Converted to Lead</td>\n",
              "      <td>Yes</td>\n",
              "    </tr>\n",
              "  </tbody>\n",
              "</table>\n",
              "</div>\n",
              "      <button class=\"colab-df-convert\" onclick=\"convertToInteractive('df-8b34cdf2-63b9-4b47-a874-eba6e980605c')\"\n",
              "              title=\"Convert this dataframe to an interactive table.\"\n",
              "              style=\"display:none;\">\n",
              "        \n",
              "  <svg xmlns=\"http://www.w3.org/2000/svg\" height=\"24px\"viewBox=\"0 0 24 24\"\n",
              "       width=\"24px\">\n",
              "    <path d=\"M0 0h24v24H0V0z\" fill=\"none\"/>\n",
              "    <path d=\"M18.56 5.44l.94 2.06.94-2.06 2.06-.94-2.06-.94-.94-2.06-.94 2.06-2.06.94zm-11 1L8.5 8.5l.94-2.06 2.06-.94-2.06-.94L8.5 2.5l-.94 2.06-2.06.94zm10 10l.94 2.06.94-2.06 2.06-.94-2.06-.94-.94-2.06-.94 2.06-2.06.94z\"/><path d=\"M17.41 7.96l-1.37-1.37c-.4-.4-.92-.59-1.43-.59-.52 0-1.04.2-1.43.59L10.3 9.45l-7.72 7.72c-.78.78-.78 2.05 0 2.83L4 21.41c.39.39.9.59 1.41.59.51 0 1.02-.2 1.41-.59l7.78-7.78 2.81-2.81c.8-.78.8-2.07 0-2.86zM5.41 20L4 18.59l7.72-7.72 1.47 1.35L5.41 20z\"/>\n",
              "  </svg>\n",
              "      </button>\n",
              "      \n",
              "  <style>\n",
              "    .colab-df-container {\n",
              "      display:flex;\n",
              "      flex-wrap:wrap;\n",
              "      gap: 12px;\n",
              "    }\n",
              "\n",
              "    .colab-df-convert {\n",
              "      background-color: #E8F0FE;\n",
              "      border: none;\n",
              "      border-radius: 50%;\n",
              "      cursor: pointer;\n",
              "      display: none;\n",
              "      fill: #1967D2;\n",
              "      height: 32px;\n",
              "      padding: 0 0 0 0;\n",
              "      width: 32px;\n",
              "    }\n",
              "\n",
              "    .colab-df-convert:hover {\n",
              "      background-color: #E2EBFA;\n",
              "      box-shadow: 0px 1px 2px rgba(60, 64, 67, 0.3), 0px 1px 3px 1px rgba(60, 64, 67, 0.15);\n",
              "      fill: #174EA6;\n",
              "    }\n",
              "\n",
              "    [theme=dark] .colab-df-convert {\n",
              "      background-color: #3B4455;\n",
              "      fill: #D2E3FC;\n",
              "    }\n",
              "\n",
              "    [theme=dark] .colab-df-convert:hover {\n",
              "      background-color: #434B5C;\n",
              "      box-shadow: 0px 1px 3px 1px rgba(0, 0, 0, 0.15);\n",
              "      filter: drop-shadow(0px 1px 2px rgba(0, 0, 0, 0.3));\n",
              "      fill: #FFFFFF;\n",
              "    }\n",
              "  </style>\n",
              "\n",
              "      <script>\n",
              "        const buttonEl =\n",
              "          document.querySelector('#df-8b34cdf2-63b9-4b47-a874-eba6e980605c button.colab-df-convert');\n",
              "        buttonEl.style.display =\n",
              "          google.colab.kernel.accessAllowed ? 'block' : 'none';\n",
              "\n",
              "        async function convertToInteractive(key) {\n",
              "          const element = document.querySelector('#df-8b34cdf2-63b9-4b47-a874-eba6e980605c');\n",
              "          const dataTable =\n",
              "            await google.colab.kernel.invokeFunction('convertToInteractive',\n",
              "                                                     [key], {});\n",
              "          if (!dataTable) return;\n",
              "\n",
              "          const docLinkHtml = 'Like what you see? Visit the ' +\n",
              "            '<a target=\"_blank\" href=https://colab.research.google.com/notebooks/data_table.ipynb>data table notebook</a>'\n",
              "            + ' to learn more about interactive tables.';\n",
              "          element.innerHTML = '';\n",
              "          dataTable['output_type'] = 'display_data';\n",
              "          await google.colab.output.renderOutput(dataTable, element);\n",
              "          const docLink = document.createElement('div');\n",
              "          docLink.innerHTML = docLinkHtml;\n",
              "          element.appendChild(docLink);\n",
              "        }\n",
              "      </script>\n",
              "    </div>\n",
              "  </div>\n",
              "  "
            ]
          },
          "metadata": {},
          "execution_count": 3
        }
      ]
    },
    {
      "cell_type": "markdown",
      "source": [
        "**Observations:**\n",
        "\n",
        "* The Dataset has 9240 Rows and 15 Columns"
      ],
      "metadata": {
        "id": "HRVKI-gkzPrc"
      }
    },
    {
      "cell_type": "markdown",
      "source": [
        "**Getting Datatypes of each feature**"
      ],
      "metadata": {
        "id": "2H0F3AaIzeP_"
      }
    },
    {
      "cell_type": "code",
      "source": [
        "df.dtypes"
      ],
      "metadata": {
        "colab": {
          "base_uri": "https://localhost:8080/"
        },
        "id": "KSvc5uqKzi5s",
        "outputId": "e43acb04-0f48-4d07-907d-bca820a40a83"
      },
      "execution_count": null,
      "outputs": [
        {
          "output_type": "execute_result",
          "data": {
            "text/plain": [
              "ID                                                 int64\n",
              "Country                                           object\n",
              "Specialization                                    object\n",
              "How did you hear about Us                         object\n",
              "Current_Occupation                                object\n",
              "What matters most to you in choosing a course     object\n",
              "Origin                                            object\n",
              "Source                                            object\n",
              "Do Not Email                                      object\n",
              "Do Not Call                                       object\n",
              "TotalVisits                                      float64\n",
              "Total Time Spent on Website                        int64\n",
              "Page Views Per Visit                             float64\n",
              "Last Activity                                     object\n",
              "Purchased                                         object\n",
              "dtype: object"
            ]
          },
          "metadata": {},
          "execution_count": 4
        }
      ]
    },
    {
      "cell_type": "markdown",
      "source": [
        "Observations:\n",
        "\n",
        "* Out of 15 columns, 11 features/columns are categorical including the target variable.\n",
        "* 4 columns are continuous\n"
      ],
      "metadata": {
        "id": "wKCsGJ-GzyRz"
      }
    },
    {
      "cell_type": "markdown",
      "source": [
        "Checking Unique Value Count of each feature"
      ],
      "metadata": {
        "id": "7ZXJWeNr0qg8"
      }
    },
    {
      "cell_type": "code",
      "source": [
        "df[\"Origin\"].unique()"
      ],
      "metadata": {
        "colab": {
          "base_uri": "https://localhost:8080/"
        },
        "id": "GLu_pZwsLlCh",
        "outputId": "757d305a-2530-45ae-ec4f-dae300a7d71a"
      },
      "execution_count": null,
      "outputs": [
        {
          "output_type": "execute_result",
          "data": {
            "text/plain": [
              "array(['API', 'Landing Page Submission', 'Lead Add Form', 'Lead Import',\n",
              "       'Quick Add Form'], dtype=object)"
            ]
          },
          "metadata": {},
          "execution_count": 5
        }
      ]
    },
    {
      "cell_type": "code",
      "source": [
        "len(df.columns)"
      ],
      "metadata": {
        "colab": {
          "base_uri": "https://localhost:8080/"
        },
        "id": "1Sqy37ML3rrs",
        "outputId": "8ec36980-ea06-47bc-f783-f925f96a5a46"
      },
      "execution_count": null,
      "outputs": [
        {
          "output_type": "execute_result",
          "data": {
            "text/plain": [
              "15"
            ]
          },
          "metadata": {},
          "execution_count": 6
        }
      ]
    },
    {
      "cell_type": "code",
      "source": [
        "df.columns"
      ],
      "metadata": {
        "colab": {
          "base_uri": "https://localhost:8080/"
        },
        "id": "DXytd_KI3ueJ",
        "outputId": "e17eb910-49e9-4f5f-9350-b8f6454799a0"
      },
      "execution_count": null,
      "outputs": [
        {
          "output_type": "execute_result",
          "data": {
            "text/plain": [
              "Index(['ID', 'Country', 'Specialization', 'How did you hear about Us',\n",
              "       'Current_Occupation', 'What matters most to you in choosing a course',\n",
              "       'Origin', 'Source', 'Do Not Email', 'Do Not Call', 'TotalVisits',\n",
              "       'Total Time Spent on Website', 'Page Views Per Visit', 'Last Activity',\n",
              "       'Purchased'],\n",
              "      dtype='object')"
            ]
          },
          "metadata": {},
          "execution_count": 7
        }
      ]
    },
    {
      "cell_type": "code",
      "source": [
        "columns = df.columns\n",
        "counts = [len(df['ID'].unique()),len(df['Country'].unique()),len(df['Specialization'].unique()),len(df['How did you hear about Us'].unique()),\n",
        "          len(df['Current_Occupation'].unique()),len(df['What matters most to you in choosing a course'].unique()),len(df['Origin'].unique()),\n",
        "          len(df['Source'].unique()),len(df['Do Not Email'].unique()),len(df['Do Not Call'].unique()), len(df['TotalVisits'].unique()), \n",
        "          len(df['Total Time Spent on Website'].unique()),len(df['Page Views Per Visit'].unique()), len(df['Last Activity'].unique()), \n",
        "          len(df['Purchased'].unique())]\n",
        "fig, ax = plt.subplots(figsize=(15,9))\n",
        "ax.set_ylabel('Unique Counts')\n",
        "ax.set_xlabel('Features in Dataset')\n",
        "ax.set_title('Number of Unique Values for each feature in the dataset')\n",
        "ax.set_xticks(np.arange(len(columns)))\n",
        "ax.set_xticklabels(columns,rotation=90)\n",
        "\n",
        "bars = ax.bar(np.arange(len(columns)), counts)\n",
        "\n",
        "for i, bar in enumerate(bars):\n",
        "    height = bar.get_height()\n",
        "    ax.annotate('{}'.format(height),\n",
        "                xy=(bar.get_x() + bar.get_width() / 2, height),\n",
        "                xytext=(0, 3),\n",
        "                textcoords=\"offset points\",\n",
        "                ha='center', va='bottom')"
      ],
      "metadata": {
        "colab": {
          "base_uri": "https://localhost:8080/",
          "height": 794
        },
        "id": "tSJVv0nA0yJ_",
        "outputId": "46ddd315-7724-4cd1-c3c7-66652bc3c122"
      },
      "execution_count": null,
      "outputs": [
        {
          "output_type": "display_data",
          "data": {
            "text/plain": [
              "<Figure size 1080x648 with 1 Axes>"
            ],
            "image/png": "[encoded data removed]"
          },
          "metadata": {
            "needs_background": "light"
          }
        }
      ]
    },
    {
      "cell_type": "markdown",
      "source": [
        "**Number of missing values in the dataset**"
      ],
      "metadata": {
        "id": "EHVBwV5D2m5K"
      }
    },
    {
      "cell_type": "code",
      "source": [
        "df.isna().sum()"
      ],
      "metadata": {
        "colab": {
          "base_uri": "https://localhost:8080/"
        },
        "id": "8_SeJ7uk8JBj",
        "outputId": "816a9789-8f80-4597-a0dc-37f6a56405bc"
      },
      "execution_count": null,
      "outputs": [
        {
          "output_type": "execute_result",
          "data": {
            "text/plain": [
              "ID                                                  0\n",
              "Country                                          2465\n",
              "Specialization                                   3379\n",
              "How did you hear about Us                        7249\n",
              "Current_Occupation                               2690\n",
              "What matters most to you in choosing a course    2709\n",
              "Origin                                              0\n",
              "Source                                             36\n",
              "Do Not Email                                        0\n",
              "Do Not Call                                         0\n",
              "TotalVisits                                       137\n",
              "Total Time Spent on Website                         0\n",
              "Page Views Per Visit                              137\n",
              "Last Activity                                     103\n",
              "Purchased                                           0\n",
              "dtype: int64"
            ]
          },
          "metadata": {},
          "execution_count": 9
        }
      ]
    },
    {
      "cell_type": "markdown",
      "source": [
        "**Observations:**\n",
        "\n",
        "* Out of 15 features, 5 features have no missing values.\n",
        "* 5 features have missing values>1000.\n",
        "* 3 features have missing values>100.\n",
        "* 1 feature have missing values<100."
      ],
      "metadata": {
        "id": "iorUQalA3Rix"
      }
    },
    {
      "cell_type": "markdown",
      "source": [
        "**Imputing Missing Values**"
      ],
      "metadata": {
        "id": "zPwbzzzI4_I5"
      }
    },
    {
      "cell_type": "markdown",
      "source": [
        "**Using Mode and Median Imputation**"
      ],
      "metadata": {
        "id": "Vr33tmtOCExS"
      }
    },
    {
      "cell_type": "markdown",
      "source": [
        "* For Country"
      ],
      "metadata": {
        "id": "-MGqI05f5HwK"
      }
    },
    {
      "cell_type": "code",
      "source": [
        "df['Country']=df['Country'].fillna(df['Country'].mode()[0])\n",
        "df['Country'].isna().sum()"
      ],
      "metadata": {
        "colab": {
          "base_uri": "https://localhost:8080/"
        },
        "id": "wLRgc2EC5MiC",
        "outputId": "7c417404-0eb0-4c08-d12a-e2c5cc81b7e3"
      },
      "execution_count": null,
      "outputs": [
        {
          "output_type": "execute_result",
          "data": {
            "text/plain": [
              "0"
            ]
          },
          "metadata": {},
          "execution_count": 10
        }
      ]
    },
    {
      "cell_type": "markdown",
      "source": [
        "* Specialization"
      ],
      "metadata": {
        "id": "IuXSZz8y52LW"
      }
    },
    {
      "cell_type": "code",
      "source": [
        "df['Specialization']=df['Specialization'].fillna(df['Specialization'].mode()[0])\n",
        "df['Specialization'].isna().sum()"
      ],
      "metadata": {
        "id": "ExckwL1y8Twy",
        "colab": {
          "base_uri": "https://localhost:8080/"
        },
        "outputId": "b3df9c0e-39ac-41a5-9705-f3c67b37beb1"
      },
      "execution_count": null,
      "outputs": [
        {
          "output_type": "execute_result",
          "data": {
            "text/plain": [
              "0"
            ]
          },
          "metadata": {},
          "execution_count": 11
        }
      ]
    },
    {
      "cell_type": "markdown",
      "source": [
        "* How did you hear about Us"
      ],
      "metadata": {
        "id": "SnIabwN36UoP"
      }
    },
    {
      "cell_type": "code",
      "source": [
        "df['How did you hear about Us']=df['How did you hear about Us'].fillna(df['How did you hear about Us'].mode()[0])\n",
        "df['How did you hear about Us'].isna().sum()"
      ],
      "metadata": {
        "colab": {
          "base_uri": "https://localhost:8080/"
        },
        "id": "049oaT2t6G9u",
        "outputId": "a63ca189-3f57-40bd-fcd0-22e28c3dbb8b"
      },
      "execution_count": null,
      "outputs": [
        {
          "output_type": "execute_result",
          "data": {
            "text/plain": [
              "0"
            ]
          },
          "metadata": {},
          "execution_count": 12
        }
      ]
    },
    {
      "cell_type": "markdown",
      "source": [
        "* Current Occupation"
      ],
      "metadata": {
        "id": "FQFHTXXK6vnP"
      }
    },
    {
      "cell_type": "code",
      "source": [
        "df['Current_Occupation']=df['Current_Occupation'].fillna(df['Current_Occupation'].mode()[0])\n",
        "df['Current_Occupation'].isna().sum()"
      ],
      "metadata": {
        "colab": {
          "base_uri": "https://localhost:8080/"
        },
        "id": "qzNDW2VF6rJ5",
        "outputId": "fa0b4e84-481b-46f4-bb14-f9a386d94b03"
      },
      "execution_count": null,
      "outputs": [
        {
          "output_type": "execute_result",
          "data": {
            "text/plain": [
              "0"
            ]
          },
          "metadata": {},
          "execution_count": 13
        }
      ]
    },
    {
      "cell_type": "markdown",
      "source": [
        "* What matters most to you in choosing a course"
      ],
      "metadata": {
        "id": "TK-ChFJi7MXD"
      }
    },
    {
      "cell_type": "code",
      "source": [
        "df['What matters most to you in choosing a course']=df['What matters most to you in choosing a course'].fillna(df['What matters most to you in choosing a course'].mode()[0])\n",
        "df['What matters most to you in choosing a course'].isna().sum()"
      ],
      "metadata": {
        "colab": {
          "base_uri": "https://localhost:8080/"
        },
        "id": "PZqpCe6K7OR-",
        "outputId": "756e66f2-8dc3-4bad-80a7-cb8c139ab1fb"
      },
      "execution_count": null,
      "outputs": [
        {
          "output_type": "execute_result",
          "data": {
            "text/plain": [
              "0"
            ]
          },
          "metadata": {},
          "execution_count": 14
        }
      ]
    },
    {
      "cell_type": "markdown",
      "source": [
        "* Total Visits"
      ],
      "metadata": {
        "id": "Hba_De-r8Zmq"
      }
    },
    {
      "cell_type": "code",
      "source": [
        "df['TotalVisits']=df['TotalVisits'].fillna(df['TotalVisits'].median())\n",
        "df['TotalVisits'].isna().sum()"
      ],
      "metadata": {
        "colab": {
          "base_uri": "https://localhost:8080/"
        },
        "id": "kTqjmb0O7rEL",
        "outputId": "dc8507dc-234a-4a08-dd51-64db9d5ab319"
      },
      "execution_count": null,
      "outputs": [
        {
          "output_type": "execute_result",
          "data": {
            "text/plain": [
              "0"
            ]
          },
          "metadata": {},
          "execution_count": 15
        }
      ]
    },
    {
      "cell_type": "markdown",
      "source": [
        "* Page Views Per Visit"
      ],
      "metadata": {
        "id": "2c-BS_S68pEb"
      }
    },
    {
      "cell_type": "code",
      "source": [
        "df['Page Views Per Visit']=df['Page Views Per Visit'].fillna(df['Page Views Per Visit'].median())\n",
        "df['Page Views Per Visit'].isna().sum()"
      ],
      "metadata": {
        "colab": {
          "base_uri": "https://localhost:8080/"
        },
        "id": "GODEEoxx8uqk",
        "outputId": "48fea261-62fd-454c-d9c4-8414276057a6"
      },
      "execution_count": null,
      "outputs": [
        {
          "output_type": "execute_result",
          "data": {
            "text/plain": [
              "0"
            ]
          },
          "metadata": {},
          "execution_count": 16
        }
      ]
    },
    {
      "cell_type": "markdown",
      "source": [
        "* Last Activity"
      ],
      "metadata": {
        "id": "Z4a3ByeX9DeB"
      }
    },
    {
      "cell_type": "code",
      "source": [
        "df['Last Activity']=df['Last Activity'].fillna(df['Last Activity'].mode()[0])\n",
        "df['Last Activity'].isna().sum()"
      ],
      "metadata": {
        "colab": {
          "base_uri": "https://localhost:8080/"
        },
        "id": "mJ2lqMum87VE",
        "outputId": "0310005e-002d-46dd-e3da-1f52e28aed8e"
      },
      "execution_count": null,
      "outputs": [
        {
          "output_type": "execute_result",
          "data": {
            "text/plain": [
              "0"
            ]
          },
          "metadata": {},
          "execution_count": 17
        }
      ]
    },
    {
      "cell_type": "markdown",
      "source": [
        "# EDA"
      ],
      "metadata": {
        "id": "nwRgxL7Yj3rU"
      }
    },
    {
      "cell_type": "markdown",
      "source": [
        "**Class Distribution**"
      ],
      "metadata": {
        "id": "9GctT9LeDhjm"
      }
    },
    {
      "cell_type": "code",
      "source": [
        "\n",
        "import matplotlib.pyplot as plt\n",
        "import seaborn as sns\n",
        "\n",
        "# Create the countplot\n",
        "ax = sns.countplot(data=df, x='Purchased')"
      ],
      "metadata": {
        "colab": {
          "base_uri": "https://localhost:8080/",
          "height": 279
        },
        "id": "S6veLQ2WDfvv",
        "outputId": "02255570-e608-4b21-bfb5-861921b258f7"
      },
      "execution_count": null,
      "outputs": [
        {
          "output_type": "display_data",
          "data": {
            "text/plain": [
              "<Figure size 432x288 with 1 Axes>"
            ],
            "image/png": "[encoded data removed]"
          },
          "metadata": {
            "needs_background": "light"
          }
        }
      ]
    },
    {
      "cell_type": "markdown",
      "source": [
        "**Observations**\n",
        "\n",
        "* Our Data is almost balanced.\n",
        "* Over 5000 users have not done purchased yet.\n",
        "* 3000 users are done with their purchasing"
      ],
      "metadata": {
        "id": "JURvsftbE8U_"
      }
    },
    {
      "cell_type": "markdown",
      "source": [
        "**Top 10 Countries For Purchasing**"
      ],
      "metadata": {
        "id": "tBLpfBe8mQDy"
      }
    },
    {
      "cell_type": "code",
      "source": [
        "import seaborn as sns\n",
        "\n",
        "# Assuming your DataFrame is called 'df' and the column containing the city names is called 'City'\n",
        "# and class label column is called 'class_label'\n",
        "\n",
        "# Get the top 10 cities\n",
        "# Create the countplot\n",
        "plt.figure(figsize=(15, 9))\n",
        "top_10 = df['Country'].value_counts().nlargest(10).index\n",
        "# Create a new DataFrame with only the top 10 cities\n",
        "top_10_df = df[df['Country'].isin(top_10)]\n",
        "sns.countplot(data=top_10_df, x='Country', hue='Purchased')\n",
        "\n",
        "# Add a title and labels\n",
        "plt.title(\"Top 10 Countries For Purchasing\")\n",
        "plt.xlabel(\"Country\")\n",
        "plt.ylabel(\"Number of Users\")\n",
        "\n",
        "# Show the plot\n",
        "plt.show()"
      ],
      "metadata": {
        "colab": {
          "base_uri": "https://localhost:8080/",
          "height": 567
        },
        "id": "AzDp2GP9mJec",
        "outputId": "5aec847c-e921-4897-bb6b-8e5378a64420"
      },
      "execution_count": null,
      "outputs": [
        {
          "output_type": "display_data",
          "data": {
            "text/plain": [
              "<Figure size 1080x648 with 1 Axes>"
            ],
            "image/png": "[encoded data removed]"
          },
          "metadata": {
            "needs_background": "light"
          }
        }
      ]
    },
    {
      "cell_type": "markdown",
      "source": [
        "**Observations:**\n",
        "\n",
        "* Since the dataset has 38 unique countries which will be difficult for us to get an insight about the data, we have narrowed down to top 10 countries in order to get a better visualization and insight.\n",
        "* India has the highest purchasers as well as non-purchasers, followed by UAE and USA out of top 10 countries.\n",
        "* Hong Kong has the least purchasers as well as non-purchasers, out of top 10 countries"
      ],
      "metadata": {
        "id": "Ai71VhK9_j7F"
      }
    },
    {
      "cell_type": "markdown",
      "source": [
        "**Top 10 Specializations For Purchasing**"
      ],
      "metadata": {
        "id": "HbRheK6SBQr1"
      }
    },
    {
      "cell_type": "code",
      "source": [
        "# Assuming your DataFrame is called 'df' and the column containing the city names is called 'City'\n",
        "# and class label column is called 'class_label'\n",
        "\n",
        "# Get the top 10 cities\n",
        "# Create the countplot\n",
        "plt.figure(figsize=(30, 15))\n",
        "top_10 = df['Specialization'].value_counts().nlargest(10).index\n",
        "# Create a new DataFrame with only the top 10 cities\n",
        "top_10_df = df[df['Specialization'].isin(top_10)]\n",
        "sns.countplot(data=top_10_df, x='Specialization', hue='Purchased')\n",
        "\n",
        "# Add a title and labels\n",
        "plt.title(\"Top 10 Specialization For Purchasing\")\n",
        "plt.xlabel(\"Specialization\")\n",
        "plt.ylabel(\"Number of Users\")\n",
        "\n",
        "# Show the plot\n",
        "plt.show()"
      ],
      "metadata": {
        "colab": {
          "base_uri": "https://localhost:8080/",
          "height": 579
        },
        "id": "f-LMnP0qBemH",
        "outputId": "801badae-2856-40a4-f068-6e5ebdc03eb1"
      },
      "execution_count": null,
      "outputs": [
        {
          "output_type": "display_data",
          "data": {
            "text/plain": [
              "<Figure size 2160x1080 with 1 Axes>"
            ],
            "image/png": "[encoded data removed]"
          },
          "metadata": {
            "needs_background": "light"
          }
        }
      ]
    },
    {
      "cell_type": "markdown",
      "source": [
        "**Observations:**\n",
        "* Since the dataset has 19 unique specializations which will be difficult for us to get an insight about the data, we have narrowed down to top 10 specializations in order to get a better visualization and insight.\n",
        "* Finance Management has the highest purchasers as well as non-purchasers, followed by Marketing Management and HR Management out of top 10 countries.\n",
        "* Media and Advertising has the least purchasers as well as non-purchasers, out of top 10 specializations."
      ],
      "metadata": {
        "id": "SW0FatWdC8To"
      }
    },
    {
      "cell_type": "markdown",
      "source": [
        "**Referrals For Purchasing**"
      ],
      "metadata": {
        "id": "pLOMFBBPFfp3"
      }
    },
    {
      "cell_type": "code",
      "source": [
        "plt.figure(figsize=(30, 15))\n",
        "sns.countplot(data=df, x='How did you hear about Us', hue='Purchased')\n",
        "\n",
        "# Add a title and labels\n",
        "plt.title(\"Referrals For Purchasing\")\n",
        "plt.xlabel(\"Referrals\")\n",
        "plt.ylabel(\"Number of Users\")\n",
        "\n",
        "# Show the plot\n",
        "plt.show()"
      ],
      "metadata": {
        "colab": {
          "base_uri": "https://localhost:8080/",
          "height": 579
        },
        "id": "iwuZZ3RbFnoh",
        "outputId": "44b9ce1c-2343-40fe-d785-91d8938a35c7"
      },
      "execution_count": null,
      "outputs": [
        {
          "output_type": "display_data",
          "data": {
            "text/plain": [
              "<Figure size 2160x1080 with 1 Axes>"
            ],
            "image/png": "[encoded data removed]"
          },
          "metadata": {
            "needs_background": "light"
          }
        }
      ]
    },
    {
      "cell_type": "markdown",
      "source": [
        "**Observations**\n",
        "\n",
        "* Online Search has the highest purchasers as well as non-purchasers, followed by Word of Mouth and Student of Some School.\n",
        "* SMS has the least purchasers as well as non-purchasers."
      ],
      "metadata": {
        "id": "5kvb_4cnGCrs"
      }
    },
    {
      "cell_type": "markdown",
      "source": [
        "**Occupations for purchasers**"
      ],
      "metadata": {
        "id": "Xbp9JHvbGa2O"
      }
    },
    {
      "cell_type": "code",
      "source": [
        "plt.figure(figsize=(15, 9))\n",
        "sns.countplot(data=df, x='Current_Occupation', hue='Purchased')\n",
        "\n",
        "# Add a title and labels\n",
        "plt.title(\"Occupation For Purchasing\")\n",
        "plt.xlabel(\"Occupation\")\n",
        "plt.ylabel(\"Number of Users\")\n",
        "\n",
        "# Show the plot\n",
        "plt.show()"
      ],
      "metadata": {
        "colab": {
          "base_uri": "https://localhost:8080/",
          "height": 567
        },
        "id": "G6D-eWAKGbg6",
        "outputId": "59527d41-f226-439d-e5bb-f67d67e0c1ae"
      },
      "execution_count": null,
      "outputs": [
        {
          "output_type": "display_data",
          "data": {
            "text/plain": [
              "<Figure size 1080x648 with 1 Axes>"
            ],
            "image/png": "[encoded data removed]"
          },
          "metadata": {
            "needs_background": "light"
          }
        }
      ]
    },
    {
      "cell_type": "markdown",
      "source": [
        "**Observations**\n",
        "\n",
        "* Unemployed people are the highest purchasers as well as non-purchasers, followed by Student and Working Professional.\n",
        "* People who are businessman are least purchasers as well as non-purchasers."
      ],
      "metadata": {
        "id": "c3abOAQfG4QA"
      }
    },
    {
      "cell_type": "markdown",
      "source": [
        "**Last Activity for purchasers**"
      ],
      "metadata": {
        "id": "1htAW-5MH7xR"
      }
    },
    {
      "cell_type": "code",
      "source": [
        "plt.figure(figsize=(20, 9))\n",
        "top_10 = df['Last Activity'].value_counts().nlargest(10).index\n",
        "# Create a new DataFrame with only the top 10 cities\n",
        "top_10_df = df[df['Last Activity'].isin(top_10)]\n",
        "sns.countplot(data=top_10_df, x='Last Activity', hue='Purchased')\n",
        "# Add a title and labels\n",
        "plt.title(\"Last Activity before Purchasing\")\n",
        "plt.xlabel(\"Last Activity\")\n",
        "plt.ylabel(\"Number of Users\")\n",
        "\n",
        "# Show the plot\n",
        "plt.show()"
      ],
      "metadata": {
        "colab": {
          "base_uri": "https://localhost:8080/",
          "height": 538
        },
        "id": "GYuoY5bUH79U",
        "outputId": "5766e066-8cb1-456f-8fb5-1eb3bf279b04"
      },
      "execution_count": null,
      "outputs": [
        {
          "output_type": "display_data",
          "data": {
            "text/plain": [
              "<Figure size 1440x648 with 1 Axes>"
            ],
            "image/png": "[encoded data removed]"
          },
          "metadata": {
            "needs_background": "light"
          }
        }
      ]
    },
    {
      "cell_type": "markdown",
      "source": [
        "**Observations:**\n",
        "\n",
        "* Most of the purchasers have viewed their email and sms as the last activity before purchase.\n",
        "* They might be viewing acknowledgement email or sms of their successful purchase."
      ],
      "metadata": {
        "id": "ySKNyPAoW1Zy"
      }
    },
    {
      "cell_type": "markdown",
      "source": [
        "**What matters to the users for purchasing**"
      ],
      "metadata": {
        "id": "VXOoK4HTJI95"
      }
    },
    {
      "cell_type": "code",
      "source": [
        "plt.figure(figsize=(20, 9))\n",
        "sns.countplot(data=df, x='What matters most to you in choosing a course', hue='Purchased')\n",
        "# Add a title and labels\n",
        "plt.title(\"What matters most to you in choosing a course\")\n",
        "plt.xlabel(\"Reasons\")\n",
        "plt.ylabel(\"Number of Users\")\n",
        "\n",
        "# Show the plot\n",
        "plt.show()"
      ],
      "metadata": {
        "colab": {
          "base_uri": "https://localhost:8080/",
          "height": 538
        },
        "id": "aeQ--X7LJ7-9",
        "outputId": "1559ca54-87af-478b-bb32-96038be4b2cf"
      },
      "execution_count": null,
      "outputs": [
        {
          "output_type": "display_data",
          "data": {
            "text/plain": [
              "<Figure size 1440x648 with 1 Axes>"
            ],
            "image/png": "[encoded data removed]"
          },
          "metadata": {
            "needs_background": "light"
          }
        }
      ]
    },
    {
      "cell_type": "markdown",
      "source": [
        "**Observations:**\n",
        "\n",
        "* In order to choose a course, a Better Career Prospects matters most to the purchasers.\n",
        "* Most of the people purchased the code to have Better Career Prospects.\n"
      ],
      "metadata": {
        "id": "tAk9oNLaKqti"
      }
    },
    {
      "cell_type": "markdown",
      "source": [
        "**Orgin of Purchasers**"
      ],
      "metadata": {
        "id": "8kVQwO3SMGrX"
      }
    },
    {
      "cell_type": "code",
      "source": [
        "plt.figure(figsize=(20, 9))\n",
        "sns.countplot(data=df, x='Origin', hue='Purchased')\n",
        "# Add a title and labels\n",
        "plt.title(\"Origin of Purchasers\")\n",
        "plt.xlabel(\"Origin\")\n",
        "plt.ylabel(\"Number of Users\")\n",
        "\n",
        "# Show the plot\n",
        "plt.show()"
      ],
      "metadata": {
        "colab": {
          "base_uri": "https://localhost:8080/",
          "height": 538
        },
        "id": "Mia1zdLrMVhc",
        "outputId": "c77d1f64-175a-4f88-952d-ee9c881405db"
      },
      "execution_count": null,
      "outputs": [
        {
          "output_type": "display_data",
          "data": {
            "text/plain": [
              "<Figure size 1440x648 with 1 Axes>"
            ],
            "image/png": "[encoded data removed]"
          },
          "metadata": {
            "needs_background": "light"
          }
        }
      ]
    },
    {
      "cell_type": "markdown",
      "source": [
        "**Observations:**\n",
        "* Most of the purchasers originated from Landing Page Submission(Page where a user is sent after clicking the ad), followed by API(Website) and Lead Add Form(Sales lead referred user).\n",
        "* People who originated from Quick Add Form(Google form) are less likely to become purchasers"
      ],
      "metadata": {
        "id": "MCzzMwWKMkjU"
      }
    },
    {
      "cell_type": "markdown",
      "source": [
        "**Top 10 Source of Purchasers(What website do they come from)**"
      ],
      "metadata": {
        "id": "6Ese197YNgYb"
      }
    },
    {
      "cell_type": "code",
      "source": [
        "plt.figure(figsize=(20, 9))\n",
        "top_10 = df['Source'].value_counts().nlargest(10).index\n",
        "# Create a new DataFrame with only the top 10 cities\n",
        "top_10_df = df[df['Source'].isin(top_10)]\n",
        "sns.countplot(data=top_10_df, x='Source', hue='Purchased')\n",
        "# Add a title and labels\n",
        "plt.title(\"Source of Purchasers\")\n",
        "plt.xlabel(\"Source\")\n",
        "plt.ylabel(\"Number of Users\")\n",
        "\n",
        "# Show the plot\n",
        "plt.show()"
      ],
      "metadata": {
        "colab": {
          "base_uri": "https://localhost:8080/",
          "height": 538
        },
        "id": "CIVYcSI3Nwsv",
        "outputId": "3dc40a68-1e56-43ba-8542-ce2c084429c0"
      },
      "execution_count": null,
      "outputs": [
        {
          "output_type": "display_data",
          "data": {
            "text/plain": [
              "<Figure size 1440x648 with 1 Axes>"
            ],
            "image/png": "[encoded data removed]"
          },
          "metadata": {
            "needs_background": "light"
          }
        }
      ]
    },
    {
      "cell_type": "markdown",
      "source": [
        "**Observations:**\n",
        "\n",
        "* Most of the purchasers have come from the Google, followed by Direct Traffic, Reference, Olark Chat and Organic Search.\n",
        "* People who come from google, Facebook and bing are least likely to become purchasers.\n"
      ],
      "metadata": {
        "id": "MAymQg0xO4UD"
      }
    },
    {
      "cell_type": "markdown",
      "source": [
        "**Purchasers who don't like reaching out to email**"
      ],
      "metadata": {
        "id": "smvKsSSKRLh_"
      }
    },
    {
      "cell_type": "code",
      "source": [
        "plt.figure(figsize=(20, 9))\n",
        "sns.countplot(data=df, x='Do Not Email', hue='Purchased')\n",
        "# Add a title and labels\n",
        "plt.title(\"Purchasers who don't like reaching out to email\")\n",
        "plt.xlabel(\"Do not Email\")\n",
        "plt.ylabel(\"Number of Users\")\n",
        "# Show the plot\n",
        "plt.show()"
      ],
      "metadata": {
        "colab": {
          "base_uri": "https://localhost:8080/",
          "height": 538
        },
        "id": "-wqq3YHFRbCw",
        "outputId": "473ea18e-47d1-4983-a0d0-c309fdc7207b"
      },
      "execution_count": null,
      "outputs": [
        {
          "output_type": "display_data",
          "data": {
            "text/plain": [
              "<Figure size 1440x648 with 1 Axes>"
            ],
            "image/png": "[encoded data removed]"
          },
          "metadata": {
            "needs_background": "light"
          }
        }
      ]
    },
    {
      "cell_type": "markdown",
      "source": [
        "**Observations:**\n",
        "\n",
        "* People who would like to receive emails are most likely to become purchasers.\n",
        "* People who would not like to receive emails are less likely to become purchasers."
      ],
      "metadata": {
        "id": "19NZcnOeSBAR"
      }
    },
    {
      "cell_type": "markdown",
      "source": [
        "**Purchasers who don't like reaching out to calls**"
      ],
      "metadata": {
        "id": "neK1o-oZSgxK"
      }
    },
    {
      "cell_type": "code",
      "source": [
        "plt.figure(figsize=(20, 9))\n",
        "sns.countplot(data=df, x='Do Not Call', hue='Purchased')\n",
        "# Add a title and labels\n",
        "plt.title(\"Purchasers who don't like reaching out to call\")\n",
        "plt.xlabel(\"Do not Call\")\n",
        "plt.ylabel(\"Number of Users\")\n",
        "# Show the plot\n",
        "plt.show()"
      ],
      "metadata": {
        "colab": {
          "base_uri": "https://localhost:8080/",
          "height": 538
        },
        "id": "swxAW8bDSqCX",
        "outputId": "bd71e831-e0be-477b-e0b1-5717304b6249"
      },
      "execution_count": null,
      "outputs": [
        {
          "output_type": "display_data",
          "data": {
            "text/plain": [
              "<Figure size 1440x648 with 1 Axes>"
            ],
            "image/png": "[encoded data removed]"
          },
          "metadata": {
            "needs_background": "light"
          }
        }
      ]
    },
    {
      "cell_type": "markdown",
      "source": [
        "**Observations:**\n",
        "\n",
        "* People who would like to receive calls are most likely to become purchasers.\n",
        "* People who would not like to receive calls are less likely to become purchasers."
      ],
      "metadata": {
        "id": "AY3T555SS7NZ"
      }
    },
    {
      "cell_type": "markdown",
      "source": [
        "**Total Visits of Purchaser**"
      ],
      "metadata": {
        "id": "hEsobxc2Tzwk"
      }
    },
    {
      "cell_type": "code",
      "source": [
        "sns.barplot(x='Purchased',y='TotalVisits',data=df)"
      ],
      "metadata": {
        "colab": {
          "base_uri": "https://localhost:8080/",
          "height": 300
        },
        "id": "3JWMlL8WT8qn",
        "outputId": "5e0ec68f-c83f-46f0-8863-79ccb032e730"
      },
      "execution_count": null,
      "outputs": [
        {
          "output_type": "execute_result",
          "data": {
            "text/plain": [
              "<matplotlib.axes._subplots.AxesSubplot at 0x7f3fc6a86f40>"
            ]
          },
          "metadata": {},
          "execution_count": 29
        },
        {
          "output_type": "display_data",
          "data": {
            "text/plain": [
              "<Figure size 432x288 with 1 Axes>"
            ],
            "image/png": "[encoded data removed]"
          },
          "metadata": {
            "needs_background": "light"
          }
        }
      ]
    },
    {
      "cell_type": "markdown",
      "source": [
        "**Observations:**\n",
        "* If the user has totally visited the website more than 3.5 number of times, he will more likely become a purchaser "
      ],
      "metadata": {
        "id": "8jjjBIguUsdH"
      }
    },
    {
      "cell_type": "markdown",
      "source": [
        "**Total Time Spent on Website by Purchaser**"
      ],
      "metadata": {
        "id": "tnpYKdkoVjwt"
      }
    },
    {
      "cell_type": "code",
      "source": [
        "sns.barplot(x='Purchased',y='Total Time Spent on Website',data=df)"
      ],
      "metadata": {
        "colab": {
          "base_uri": "https://localhost:8080/",
          "height": 296
        },
        "id": "diCubhfDVpCe",
        "outputId": "9b5ec7d5-4d6e-4ac2-8bcf-653c3d2717e5"
      },
      "execution_count": null,
      "outputs": [
        {
          "output_type": "execute_result",
          "data": {
            "text/plain": [
              "<matplotlib.axes._subplots.AxesSubplot at 0x7f3fc6aa35b0>"
            ]
          },
          "metadata": {},
          "execution_count": 30
        },
        {
          "output_type": "display_data",
          "data": {
            "text/plain": [
              "<Figure size 432x288 with 1 Axes>"
            ],
            "image/png": "[encoded data removed]"
          },
          "metadata": {
            "needs_background": "light"
          }
        }
      ]
    },
    {
      "cell_type": "markdown",
      "source": [
        "**Observations**\n",
        "\n",
        "* People who have spent more than 300 seconds on the website are more likely to become purchaser"
      ],
      "metadata": {
        "id": "SY1F30hJV4zz"
      }
    },
    {
      "cell_type": "markdown",
      "source": [
        "## Model Building"
      ],
      "metadata": {
        "id": "XDW2bXUfpdy4"
      }
    },
    {
      "cell_type": "markdown",
      "source": [
        "**Dropping Id Feature**"
      ],
      "metadata": {
        "id": "aMPzFS99p1d7"
      }
    },
    {
      "cell_type": "code",
      "source": [
        "df.drop(['ID'],axis=1,inplace=True)"
      ],
      "metadata": {
        "id": "OTOeNgp1ph3l"
      },
      "execution_count": null,
      "outputs": []
    },
    {
      "cell_type": "markdown",
      "source": [
        "**Splitting Dependent and Independent Features**"
      ],
      "metadata": {
        "id": "YQxP6G6zqKpM"
      }
    },
    {
      "cell_type": "code",
      "source": [
        "x=df.drop(['Purchased'],axis=1)\n",
        "print(x.columns)\n",
        "y=df['Purchased']\n",
        "print(y)"
      ],
      "metadata": {
        "colab": {
          "base_uri": "https://localhost:8080/"
        },
        "id": "WStAGAVvqLhP",
        "outputId": "217ef522-7806-4feb-9fbc-9df9fd9c46f7"
      },
      "execution_count": null,
      "outputs": [
        {
          "output_type": "stream",
          "name": "stdout",
          "text": [
            "Index(['Country', 'Specialization', 'How did you hear about Us',\n",
            "       'Current_Occupation', 'What matters most to you in choosing a course',\n",
            "       'Origin', 'Source', 'Do Not Email', 'Do Not Call', 'TotalVisits',\n",
            "       'Total Time Spent on Website', 'Page Views Per Visit', 'Last Activity'],\n",
            "      dtype='object')\n",
            "0        No\n",
            "1        No\n",
            "2       Yes\n",
            "3        No\n",
            "4       Yes\n",
            "       ... \n",
            "9235    Yes\n",
            "9236     No\n",
            "9237     No\n",
            "9238    Yes\n",
            "9239    Yes\n",
            "Name: Purchased, Length: 9240, dtype: object\n"
          ]
        }
      ]
    },
    {
      "cell_type": "markdown",
      "source": [
        "**Encoding Categorical Features**"
      ],
      "metadata": {
        "id": "nIgazEy3rOL8"
      }
    },
    {
      "cell_type": "markdown",
      "source": [
        "* Country"
      ],
      "metadata": {
        "id": "7Uqjyb5_rV1F"
      }
    },
    {
      "cell_type": "code",
      "source": [
        "from sklearn.preprocessing import LabelEncoder\n",
        "lec = LabelEncoder()\n",
        "x['Country']= lec.fit_transform(x['Country'])\n",
        "x['Country'].unique()"
      ],
      "metadata": {
        "colab": {
          "base_uri": "https://localhost:8080/"
        },
        "id": "T0PAiqfxrU_Q",
        "outputId": "8a3e52ad-e513-49e8-e0a2-ea98125b561c"
      },
      "execution_count": null,
      "outputs": [
        {
          "output_type": "execute_result",
          "data": {
            "text/plain": [
              "array([24, 12, 16, 21, 33, 35,  1, 34,  2, 10, 26, 23, 25,  4,  8, 28,  6,\n",
              "        5, 19, 29, 20, 11,  9,  0, 32, 15, 14, 27, 31, 18, 17, 30,  7, 22,\n",
              "        3, 36, 13])"
            ]
          },
          "metadata": {},
          "execution_count": 33
        }
      ]
    },
    {
      "cell_type": "markdown",
      "source": [
        "* Specialization"
      ],
      "metadata": {
        "id": "I3CX7WHNsMkk"
      }
    },
    {
      "cell_type": "code",
      "source": [
        "les = LabelEncoder()\n",
        "x['Specialization']= les.fit_transform(x['Specialization'])\n",
        "x['Specialization'].unique()"
      ],
      "metadata": {
        "colab": {
          "base_uri": "https://localhost:8080/"
        },
        "id": "BHfFWpn2sAew",
        "outputId": "2bfb8633-c629-4906-ee12-e3ccef1783b0"
      },
      "execution_count": null,
      "outputs": [
        {
          "output_type": "execute_result",
          "data": {
            "text/plain": [
              "array([ 1,  4, 11, 16,  8, 17,  7, 10,  0,  9,  3, 12, 13, 15,  6, 14,  5,\n",
              "        2])"
            ]
          },
          "metadata": {},
          "execution_count": 34
        }
      ]
    },
    {
      "cell_type": "markdown",
      "source": [
        "* How did you hear about Us"
      ],
      "metadata": {
        "id": "WyQP-Mu3soNB"
      }
    },
    {
      "cell_type": "code",
      "source": [
        "leh = LabelEncoder()\n",
        "x['How did you hear about Us']= leh.fit_transform(x['How did you hear about Us'])\n",
        "x['How did you hear about Us'].unique()"
      ],
      "metadata": {
        "colab": {
          "base_uri": "https://localhost:8080/"
        },
        "id": "iD6K8yoir97O",
        "outputId": "294c8b3d-40d9-4b80-9776-0abbf6197042"
      },
      "execution_count": null,
      "outputs": [
        {
          "output_type": "execute_result",
          "data": {
            "text/plain": [
              "array([8, 3, 4, 2, 0, 7, 1, 6, 5])"
            ]
          },
          "metadata": {},
          "execution_count": 35
        }
      ]
    },
    {
      "cell_type": "markdown",
      "source": [
        "* Current_Occupation"
      ],
      "metadata": {
        "id": "2VWDNmZJtJPG"
      }
    },
    {
      "cell_type": "code",
      "source": [
        "leco = LabelEncoder()\n",
        "x['Current_Occupation']= leco.fit_transform(x['Current_Occupation'])\n",
        "x['Current_Occupation'].unique()"
      ],
      "metadata": {
        "colab": {
          "base_uri": "https://localhost:8080/"
        },
        "id": "I7mX-p31tKQ7",
        "outputId": "2a1dac29-7649-4610-d178-6104d4208479"
      },
      "execution_count": null,
      "outputs": [
        {
          "output_type": "execute_result",
          "data": {
            "text/plain": [
              "array([4, 3, 5, 0, 2, 1])"
            ]
          },
          "metadata": {},
          "execution_count": 36
        }
      ]
    },
    {
      "cell_type": "markdown",
      "source": [
        "* What matters most to you in choosing a course"
      ],
      "metadata": {
        "id": "BfLssW44tnSK"
      }
    },
    {
      "cell_type": "code",
      "source": [
        "lew = LabelEncoder()\n",
        "x['What matters most to you in choosing a course']= lew.fit_transform(x['What matters most to you in choosing a course'])\n",
        "x['What matters most to you in choosing a course'].unique()"
      ],
      "metadata": {
        "colab": {
          "base_uri": "https://localhost:8080/"
        },
        "id": "lkm7tmG2tneH",
        "outputId": "10727c79-b99f-4be6-de44-ec9db9878f04"
      },
      "execution_count": null,
      "outputs": [
        {
          "output_type": "execute_result",
          "data": {
            "text/plain": [
              "array([0, 1, 2])"
            ]
          },
          "metadata": {},
          "execution_count": 37
        }
      ]
    },
    {
      "cell_type": "markdown",
      "source": [
        "* Origin"
      ],
      "metadata": {
        "id": "3dY_Kd_-t4Hi"
      }
    },
    {
      "cell_type": "code",
      "source": [
        "leo = LabelEncoder()\n",
        "x['Origin']= leo.fit_transform(x['Origin'])\n",
        "x['Origin'].unique()"
      ],
      "metadata": {
        "colab": {
          "base_uri": "https://localhost:8080/"
        },
        "id": "ecNiUAMrt3aH",
        "outputId": "eb022e49-2cfa-42ac-f52f-c9b433756e91"
      },
      "execution_count": null,
      "outputs": [
        {
          "output_type": "execute_result",
          "data": {
            "text/plain": [
              "array([0, 1, 2, 3, 4])"
            ]
          },
          "metadata": {},
          "execution_count": 38
        }
      ]
    },
    {
      "cell_type": "markdown",
      "source": [
        "* Source"
      ],
      "metadata": {
        "id": "Tlz2JMTquGvc"
      }
    },
    {
      "cell_type": "code",
      "source": [
        "leso = LabelEncoder()\n",
        "x['Source']= leso.fit_transform(x['Source'])\n",
        "x['Source'].unique()"
      ],
      "metadata": {
        "colab": {
          "base_uri": "https://localhost:8080/"
        },
        "id": "Iwxex-iCuIvE",
        "outputId": "a0e44f13-e806-4c8b-9c35-07f17a040c30"
      },
      "execution_count": null,
      "outputs": [
        {
          "output_type": "execute_result",
          "data": {
            "text/plain": [
              "array([ 6,  7,  1,  3, 11, 14, 10, 17,  2, 21, 16,  8, 15, 12, 13,  0,  4,\n",
              "       19, 20, 18,  9,  5])"
            ]
          },
          "metadata": {},
          "execution_count": 39
        }
      ]
    },
    {
      "cell_type": "markdown",
      "source": [
        "* Do Not Email"
      ],
      "metadata": {
        "id": "dpDfM6Raub0p"
      }
    },
    {
      "cell_type": "code",
      "source": [
        "ledne = LabelEncoder()\n",
        "x['Do Not Email']= ledne.fit_transform(x['Do Not Email'])\n",
        "x['Do Not Email'].unique()"
      ],
      "metadata": {
        "colab": {
          "base_uri": "https://localhost:8080/"
        },
        "id": "6PSdThILufN0",
        "outputId": "5d571c81-4f1f-4adb-b3ee-41e83c9e0e9d"
      },
      "execution_count": null,
      "outputs": [
        {
          "output_type": "execute_result",
          "data": {
            "text/plain": [
              "array([0, 1])"
            ]
          },
          "metadata": {},
          "execution_count": 40
        }
      ]
    },
    {
      "cell_type": "markdown",
      "source": [
        "* Do Not Call"
      ],
      "metadata": {
        "id": "Ju32jAVeupSy"
      }
    },
    {
      "cell_type": "code",
      "source": [
        "lednc = LabelEncoder()\n",
        "x['Do Not Call']= lednc.fit_transform(x['Do Not Call'])\n",
        "x['Do Not Call'].unique()"
      ],
      "metadata": {
        "colab": {
          "base_uri": "https://localhost:8080/"
        },
        "id": "cUGPgUt9uwSP",
        "outputId": "5098944f-ef16-4d43-a29b-73b3515ad895"
      },
      "execution_count": null,
      "outputs": [
        {
          "output_type": "execute_result",
          "data": {
            "text/plain": [
              "array([0, 1])"
            ]
          },
          "metadata": {},
          "execution_count": 41
        }
      ]
    },
    {
      "cell_type": "markdown",
      "source": [
        "* Last Activity"
      ],
      "metadata": {
        "id": "Rzlj8G81u5DP"
      }
    },
    {
      "cell_type": "code",
      "source": [
        "ledla = LabelEncoder()\n",
        "x['Last Activity']= ledla.fit_transform(x['Last Activity'])\n",
        "x['Last Activity'].unique()"
      ],
      "metadata": {
        "colab": {
          "base_uri": "https://localhost:8080/"
        },
        "id": "3rvJ4rkQu-H-",
        "outputId": "4e6939a1-739d-4d89-c5c1-9817c2a5d8ea"
      },
      "execution_count": null,
      "outputs": [
        {
          "output_type": "execute_result",
          "data": {
            "text/plain": [
              "array([10,  5, 13,  1,  9,  2,  3,  7, 14,  8, 15,  0, 12, 16, 11,  6,  4])"
            ]
          },
          "metadata": {},
          "execution_count": 42
        }
      ]
    },
    {
      "cell_type": "markdown",
      "source": [
        "**Splitting the dataset**"
      ],
      "metadata": {
        "id": "m4_RPbzhvLZv"
      }
    },
    {
      "cell_type": "code",
      "source": [
        "from sklearn.model_selection import train_test_split\n",
        "xtr, xte, ytr, yte = train_test_split(x, y, test_size=0.2, random_state=42, stratify=y)\n",
        "print(\"Train data shape: \",xtr.shape)\n",
        "print(\"Train labels shape: \",ytr.shape)\n",
        "print(\"Test data shape: \",xte.shape)\n",
        "print(\"Test labels shape: \",yte.shape)"
      ],
      "metadata": {
        "colab": {
          "base_uri": "https://localhost:8080/"
        },
        "id": "wgdyOm-RvSI_",
        "outputId": "1f0334b2-62aa-4c70-e8ed-2a3d917d29be"
      },
      "execution_count": null,
      "outputs": [
        {
          "output_type": "stream",
          "name": "stdout",
          "text": [
            "Train data shape:  (7392, 13)\n",
            "Train labels shape:  (7392,)\n",
            "Test data shape:  (1848, 13)\n",
            "Test labels shape:  (1848,)\n"
          ]
        }
      ]
    },
    {
      "cell_type": "markdown",
      "source": [
        "**Using The Standard Scaler to preprocess numerical data**"
      ],
      "metadata": {
        "id": "ONu4n7_BwaoZ"
      }
    },
    {
      "cell_type": "code",
      "source": [
        "from sklearn.preprocessing import StandardScaler\n",
        "sd=StandardScaler()\n",
        "xtr=sd.fit_transform(xtr)\n",
        "xte=sd.transform(xte)"
      ],
      "metadata": {
        "id": "irD-Mt-Hwinw"
      },
      "execution_count": null,
      "outputs": []
    },
    {
      "cell_type": "code",
      "source": [
        "xtrd=pd.DataFrame()\n",
        "xted=pd.DataFrame()\n",
        "xtrd[['Country', 'Specialization', 'How did you hear about Us',\n",
        "       'Current_Occupation', 'What matters most to you in choosing a course',\n",
        "       'Origin', 'Source', 'Do Not Email', 'Do Not Call', 'TotalVisits',\n",
        "       'Total Time Spent on Website', 'Page Views Per Visit', 'Last Activity']]=xtr\n",
        "\n",
        "xted[['Country', 'Specialization', 'How did you hear about Us',\n",
        "       'Current_Occupation', 'What matters most to you in choosing a course',\n",
        "       'Origin', 'Source', 'Do Not Email', 'Do Not Call', 'TotalVisits',\n",
        "       'Total Time Spent on Website', 'Page Views Per Visit', 'Last Activity']]=xte"
      ],
      "metadata": {
        "id": "PTqVgfCdw5i6"
      },
      "execution_count": null,
      "outputs": []
    },
    {
      "cell_type": "markdown",
      "source": [
        "**Model Training and Feature Selection**"
      ],
      "metadata": {
        "id": "04aCXEBwyJc4"
      }
    },
    {
      "cell_type": "markdown",
      "source": [
        "* Model Training"
      ],
      "metadata": {
        "id": "ATqc2ie70NO3"
      }
    },
    {
      "cell_type": "code",
      "source": [
        "from sklearn.linear_model import LogisticRegression\n",
        "from sklearn.model_selection import GridSearchCV\n",
        "from sklearn.linear_model import LogisticRegression\n",
        "param = {'C': [10**-2,10**-1,10**0,10**1,10**2]}\n",
        "\n",
        "lr_model = LogisticRegression(penalty='l1', solver='liblinear')\n",
        "gs_model = GridSearchCV(estimator=lr_model, param_grid=param)\n",
        "gs_model.fit(xtrd,ytr)"
      ],
      "metadata": {
        "colab": {
          "base_uri": "https://localhost:8080/"
        },
        "id": "VbF2DkDwySAr",
        "outputId": "7a5d7436-1c82-47f0-f933-9690cffb33d7"
      },
      "execution_count": null,
      "outputs": [
        {
          "output_type": "execute_result",
          "data": {
            "text/plain": [
              "GridSearchCV(estimator=LogisticRegression(penalty='l1', solver='liblinear'),\n",
              "             param_grid={'C': [0.01, 0.1, 1, 10, 100]})"
            ]
          },
          "metadata": {},
          "execution_count": 46
        }
      ]
    },
    {
      "cell_type": "code",
      "source": [
        "gs_model.best_params_"
      ],
      "metadata": {
        "colab": {
          "base_uri": "https://localhost:8080/"
        },
        "id": "oSC9hMqdITa3",
        "outputId": "a6bdacba-94b7-4d15-b505-7e3c2695b680"
      },
      "execution_count": null,
      "outputs": [
        {
          "output_type": "execute_result",
          "data": {
            "text/plain": [
              "{'C': 0.01}"
            ]
          },
          "metadata": {},
          "execution_count": 47
        }
      ]
    },
    {
      "cell_type": "code",
      "source": [
        "model=gs_model.best_estimator_.fit(xtrd,ytr)"
      ],
      "metadata": {
        "id": "t0DpAzkOIflY"
      },
      "execution_count": null,
      "outputs": []
    },
    {
      "cell_type": "markdown",
      "source": [
        "* Feature Selection"
      ],
      "metadata": {
        "id": "6avZZ39yzsJY"
      }
    },
    {
      "cell_type": "markdown",
      "source": [
        "After Model training, discard the redundant features. The coefficient values equating to 0 are the redundant features and can be removed from the data."
      ],
      "metadata": {
        "id": "YsAEGDVx1dAA"
      }
    },
    {
      "cell_type": "code",
      "source": [
        "coef=model.coef_[0]\n",
        "coef"
      ],
      "metadata": {
        "colab": {
          "base_uri": "https://localhost:8080/"
        },
        "id": "2iuPEnfozHcS",
        "outputId": "c81b2776-c0f7-46e5-a96c-70c405261674"
      },
      "execution_count": null,
      "outputs": [
        {
          "output_type": "execute_result",
          "data": {
            "text/plain": [
              "array([ 0.        ,  0.        ,  0.        ,  0.35746187,  0.        ,\n",
              "        0.35011017,  0.46930225, -0.28101779,  0.        ,  0.        ,\n",
              "        0.88839682, -0.19696636,  0.40721344])"
            ]
          },
          "metadata": {},
          "execution_count": 49
        }
      ]
    },
    {
      "cell_type": "code",
      "source": [
        "xtrd.columns"
      ],
      "metadata": {
        "colab": {
          "base_uri": "https://localhost:8080/"
        },
        "id": "xP5xefSy2fPE",
        "outputId": "12117109-4836-4906-e4ad-16a9219e7e5d"
      },
      "execution_count": null,
      "outputs": [
        {
          "output_type": "execute_result",
          "data": {
            "text/plain": [
              "Index(['Country', 'Specialization', 'How did you hear about Us',\n",
              "       'Current_Occupation', 'What matters most to you in choosing a course',\n",
              "       'Origin', 'Source', 'Do Not Email', 'Do Not Call', 'TotalVisits',\n",
              "       'Total Time Spent on Website', 'Page Views Per Visit', 'Last Activity'],\n",
              "      dtype='object')"
            ]
          },
          "metadata": {},
          "execution_count": 50
        }
      ]
    },
    {
      "cell_type": "code",
      "source": [
        "print(\"Redundant Feature Counts: \",sum(model.coef_[0]==0))\n",
        "print(\"Redundant Feature Names: \",list(pd.Series(xtrd.columns)[list(coef==0)]))"
      ],
      "metadata": {
        "colab": {
          "base_uri": "https://localhost:8080/"
        },
        "id": "k0r0z_ul0Tnc",
        "outputId": "b4524f1f-d8de-41de-870f-c11ff2600140"
      },
      "execution_count": null,
      "outputs": [
        {
          "output_type": "stream",
          "name": "stdout",
          "text": [
            "Redundant Feature Counts:  6\n",
            "Redundant Feature Names:  ['Country', 'Specialization', 'How did you hear about Us', 'What matters most to you in choosing a course', 'Do Not Call', 'TotalVisits']\n"
          ]
        }
      ]
    },
    {
      "cell_type": "markdown",
      "source": [
        "**Model Building With Important features**"
      ],
      "metadata": {
        "id": "Gnev22tm208S"
      }
    },
    {
      "cell_type": "code",
      "source": [
        "xtr=(xtrd[['Current_Occupation','Origin', 'Source', 'Do Not Email',\n",
        "       'Total Time Spent on Website', 'Page Views Per Visit', 'Last Activity']])\n",
        "xte=(xted[['Current_Occupation','Origin', 'Source', 'Do Not Email',\n",
        "       'Total Time Spent on Website', 'Page Views Per Visit', 'Last Activity']])"
      ],
      "metadata": {
        "id": "yic2xkr_20MP"
      },
      "execution_count": null,
      "outputs": []
    },
    {
      "cell_type": "code",
      "source": [
        "lr=gs_model.best_estimator_.fit(xtr,ytr)\n",
        "lr.fit(xtr,ytr)"
      ],
      "metadata": {
        "colab": {
          "base_uri": "https://localhost:8080/"
        },
        "id": "UXHRcq7f3b0q",
        "outputId": "f67d4b5f-cc64-4497-9776-b50da367c56e"
      },
      "execution_count": null,
      "outputs": [
        {
          "output_type": "execute_result",
          "data": {
            "text/plain": [
              "LogisticRegression(C=0.01, penalty='l1', solver='liblinear')"
            ]
          },
          "metadata": {},
          "execution_count": 53
        }
      ]
    },
    {
      "cell_type": "markdown",
      "source": [
        "**Evaluating Model performance**"
      ],
      "metadata": {
        "id": "RlJ4ZagP32Zd"
      }
    },
    {
      "cell_type": "markdown",
      "source": [
        "* Confusion Matrix"
      ],
      "metadata": {
        "id": "PrI2K9Xf4M62"
      }
    },
    {
      "cell_type": "code",
      "source": [
        "from sklearn.metrics import accuracy_score,classification_report,confusion_matrix\n",
        "yp=lr.predict(xte)\n",
        "plt.figure(figsize=(15,9))\n",
        "sns.heatmap(confusion_matrix(yte,yp),annot=True,fmt='d')"
      ],
      "metadata": {
        "colab": {
          "base_uri": "https://localhost:8080/",
          "height": 554
        },
        "id": "JqSGLQFp3r8m",
        "outputId": "dd7e7e36-cae8-48a6-daab-08e2dbc1caa7"
      },
      "execution_count": null,
      "outputs": [
        {
          "output_type": "execute_result",
          "data": {
            "text/plain": [
              "<matplotlib.axes._subplots.AxesSubplot at 0x7f3fc6ab0760>"
            ]
          },
          "metadata": {},
          "execution_count": 54
        },
        {
          "output_type": "display_data",
          "data": {
            "text/plain": [
              "<Figure size 1080x648 with 2 Axes>"
            ],
            "image/png": "[encoded data removed]"
          },
          "metadata": {
            "needs_background": "light"
          }
        }
      ]
    },
    {
      "cell_type": "markdown",
      "source": [
        "**Observations**\n",
        "* No of TP - 460\n",
        "* No of FP - 252\n",
        "* No of TN - 974\n",
        "* No of FN - 162"
      ],
      "metadata": {
        "id": "cAjseS2GR4hn"
      }
    },
    {
      "cell_type": "markdown",
      "source": [
        "* Accuracy Score"
      ],
      "metadata": {
        "id": "I54IS86JKgAV"
      }
    },
    {
      "cell_type": "code",
      "source": [
        "print(accuracy_score(yte,yp))"
      ],
      "metadata": {
        "colab": {
          "base_uri": "https://localhost:8080/"
        },
        "id": "NSPYxH0q_YIx",
        "outputId": "7a83b8b0-c3f4-4207-b6b8-0514a736b46e"
      },
      "execution_count": null,
      "outputs": [
        {
          "output_type": "stream",
          "name": "stdout",
          "text": [
            "0.775974025974026\n"
          ]
        }
      ]
    },
    {
      "cell_type": "markdown",
      "source": [
        "* Classification Report"
      ],
      "metadata": {
        "id": "tadwbnkZKiMo"
      }
    },
    {
      "cell_type": "code",
      "source": [
        "print(classification_report(yte,yp))"
      ],
      "metadata": {
        "colab": {
          "base_uri": "https://localhost:8080/"
        },
        "id": "8EsHjTR8ES9N",
        "outputId": "e6149873-130c-49ba-80cc-f5df523d4fd9"
      },
      "execution_count": null,
      "outputs": [
        {
          "output_type": "stream",
          "name": "stdout",
          "text": [
            "              precision    recall  f1-score   support\n",
            "\n",
            "          No       0.79      0.86      0.82      1136\n",
            "         Yes       0.74      0.65      0.69       712\n",
            "\n",
            "    accuracy                           0.78      1848\n",
            "   macro avg       0.77      0.75      0.76      1848\n",
            "weighted avg       0.77      0.78      0.77      1848\n",
            "\n"
          ]
        }
      ]
    },
    {
      "cell_type": "markdown",
      "source": [
        "**Using Random Forest Classifier**"
      ],
      "metadata": {
        "id": "KQ50EgTZAWv9"
      }
    },
    {
      "cell_type": "markdown",
      "source": [
        "* Feature Selection"
      ],
      "metadata": {
        "id": "SSPcS0vBEts3"
      }
    },
    {
      "cell_type": "code",
      "source": [
        "from sklearn.ensemble import RandomForestClassifier\n",
        "param_grid = { \n",
        "    'n_estimators': [100, 300, 500],\n",
        "    'max_depth' : [3,5,7],\n",
        "}"
      ],
      "metadata": {
        "id": "ENSGzK2k_8Wl"
      },
      "execution_count": null,
      "outputs": []
    },
    {
      "cell_type": "code",
      "source": [
        "rfc=RandomForestClassifier(criterion='gini')\n",
        "CV_rfc = GridSearchCV(estimator=rfc, param_grid=param_grid)\n",
        "CV_rfc.fit(xtrd, ytr)"
      ],
      "metadata": {
        "colab": {
          "base_uri": "https://localhost:8080/"
        },
        "id": "ribf-BKoCB9t",
        "outputId": "994027c7-574a-4216-f31f-1b3864df6e75"
      },
      "execution_count": null,
      "outputs": [
        {
          "output_type": "execute_result",
          "data": {
            "text/plain": [
              "GridSearchCV(estimator=RandomForestClassifier(),\n",
              "             param_grid={'max_depth': [3, 5, 7],\n",
              "                         'n_estimators': [100, 300, 500]})"
            ]
          },
          "metadata": {},
          "execution_count": 58
        }
      ]
    },
    {
      "cell_type": "code",
      "source": [
        "model=CV_rfc.best_estimator_.fit(xtrd,ytr)"
      ],
      "metadata": {
        "id": "5zOKYliiFdv4"
      },
      "execution_count": null,
      "outputs": []
    },
    {
      "cell_type": "code",
      "source": [
        "importances = model.feature_importances_\n",
        "std = np.std([tree.feature_importances_ for tree in model.estimators_],\n",
        "             axis=0)\n",
        "indices = np.argsort(importances)[::-1]\n",
        "\n",
        "# Print the feature ranking\n",
        "print(\"Feature ranking:\")\n",
        "\n",
        "for f in range(xtrd.shape[1]):\n",
        "    print(\"%d. feature %d (%f)\" % (f + 1, indices[f], importances[indices[f]]))\n",
        "\n",
        "# Plot the feature importances of the forest\n",
        "\n",
        "plt.figure(1, figsize=(15, 9))\n",
        "plt.title(\"Feature importances\")\n",
        "plt.bar(range(xtrd.shape[1]), importances[indices],\n",
        "       color=\"g\", yerr=std[indices], align=\"center\")\n",
        "plt.xticks(range(xtrd.shape[1]), xtrd.columns[indices],rotation=90)\n",
        "plt.xlim([-1, xtrd.shape[1]])\n",
        "plt.show()"
      ],
      "metadata": {
        "colab": {
          "base_uri": "https://localhost:8080/",
          "height": 1000
        },
        "id": "AIzu_OJtGEkX",
        "outputId": "d3e63867-1a2d-491c-8ea7-a0c23ce66566"
      },
      "execution_count": null,
      "outputs": [
        {
          "output_type": "stream",
          "name": "stdout",
          "text": [
            "Feature ranking:\n",
            "1. feature 10 (0.355075)\n",
            "2. feature 12 (0.167456)\n",
            "3. feature 3 (0.135737)\n",
            "4. feature 5 (0.111028)\n",
            "5. feature 6 (0.109856)\n",
            "6. feature 9 (0.033765)\n",
            "7. feature 11 (0.029861)\n",
            "8. feature 7 (0.026763)\n",
            "9. feature 1 (0.022403)\n",
            "10. feature 2 (0.004425)\n",
            "11. feature 0 (0.002959)\n",
            "12. feature 4 (0.000610)\n",
            "13. feature 8 (0.000062)\n"
          ]
        },
        {
          "output_type": "display_data",
          "data": {
            "text/plain": [
              "<Figure size 1080x648 with 1 Axes>"
            ],
            "image/png": "[encoded data removed]"
          },
          "metadata": {
            "needs_background": "light"
          }
        }
      ]
    },
    {
      "cell_type": "code",
      "source": [
        "xtrd.columns"
      ],
      "metadata": {
        "colab": {
          "base_uri": "https://localhost:8080/"
        },
        "id": "XA2CwwaCLBlg",
        "outputId": "1b6cd617-7840-4426-9164-b750c60bc310"
      },
      "execution_count": null,
      "outputs": [
        {
          "output_type": "execute_result",
          "data": {
            "text/plain": [
              "Index(['Country', 'Specialization', 'How did you hear about Us',\n",
              "       'Current_Occupation', 'What matters most to you in choosing a course',\n",
              "       'Origin', 'Source', 'Do Not Email', 'Do Not Call', 'TotalVisits',\n",
              "       'Total Time Spent on Website', 'Page Views Per Visit', 'Last Activity'],\n",
              "      dtype='object')"
            ]
          },
          "metadata": {},
          "execution_count": 61
        }
      ]
    },
    {
      "cell_type": "code",
      "source": [
        "xtr=xtrd[['Total Time Spent on Website','Last Activity','Current_Occupation','Origin','Source']]\n",
        "xte=xted[['Total Time Spent on Website','Last Activity','Current_Occupation','Origin','Source']]"
      ],
      "metadata": {
        "id": "jq8XsNrDSg6a"
      },
      "execution_count": null,
      "outputs": []
    },
    {
      "cell_type": "code",
      "source": [
        "rf=CV_rfc.best_estimator_.fit(xtr,ytr)\n",
        "rf.fit(xtr,ytr)"
      ],
      "metadata": {
        "colab": {
          "base_uri": "https://localhost:8080/"
        },
        "id": "Fri713uPS8gx",
        "outputId": "27940912-7834-45c3-fac8-ccb69868d036"
      },
      "execution_count": null,
      "outputs": [
        {
          "output_type": "execute_result",
          "data": {
            "text/plain": [
              "RandomForestClassifier(max_depth=7, n_estimators=300)"
            ]
          },
          "metadata": {},
          "execution_count": 64
        }
      ]
    },
    {
      "cell_type": "markdown",
      "source": [
        "**Evaluating Random Forest Model**"
      ],
      "metadata": {
        "id": "mkoi692MTH-9"
      }
    },
    {
      "cell_type": "markdown",
      "source": [
        "* Confusion Matrix"
      ],
      "metadata": {
        "id": "9h0PHd2UTRzf"
      }
    },
    {
      "cell_type": "code",
      "source": [
        "yh=rf.predict(xte)\n",
        "plt.figure(figsize=(15,9))\n",
        "sns.heatmap(confusion_matrix(yte,yh),annot=True,fmt='d')"
      ],
      "metadata": {
        "colab": {
          "base_uri": "https://localhost:8080/",
          "height": 554
        },
        "id": "94_8Zj5gCjr0",
        "outputId": "48a333f8-9fa5-4ba0-92b3-c76aca2c8756"
      },
      "execution_count": null,
      "outputs": [
        {
          "output_type": "execute_result",
          "data": {
            "text/plain": [
              "<matplotlib.axes._subplots.AxesSubplot at 0x7f3fc6e83af0>"
            ]
          },
          "metadata": {},
          "execution_count": 66
        },
        {
          "output_type": "display_data",
          "data": {
            "text/plain": [
              "<Figure size 1080x648 with 2 Axes>"
            ],
            "image/png": "[encoded data removed]"
          },
          "metadata": {
            "needs_background": "light"
          }
        }
      ]
    },
    {
      "cell_type": "markdown",
      "source": [
        "Observations\n",
        "\n",
        "* No of TP - 561\n",
        "* No of FP - 151\n",
        "* No of TN - 940\n",
        "* No of FN - 196"
      ],
      "metadata": {
        "id": "ep3COPgfTnxs"
      }
    },
    {
      "cell_type": "markdown",
      "source": [
        "* Accuracy Score"
      ],
      "metadata": {
        "id": "ShjYMVLoT3So"
      }
    },
    {
      "cell_type": "code",
      "source": [
        "print(accuracy_score(yte,yh))"
      ],
      "metadata": {
        "colab": {
          "base_uri": "https://localhost:8080/"
        },
        "outputId": "f6347455-c005-4446-d385-2e29943003b6",
        "id": "0KVL-vmrT3So"
      },
      "execution_count": null,
      "outputs": [
        {
          "output_type": "stream",
          "name": "stdout",
          "text": [
            "0.8122294372294372\n"
          ]
        }
      ]
    },
    {
      "cell_type": "markdown",
      "source": [
        "* Classification Report"
      ],
      "metadata": {
        "id": "WBLXfmmsT3So"
      }
    },
    {
      "cell_type": "code",
      "source": [
        "print(classification_report(yte,yh))"
      ],
      "metadata": {
        "colab": {
          "base_uri": "https://localhost:8080/"
        },
        "outputId": "54dedb04-1c29-4549-e781-73632e89b177",
        "id": "RIkL_IeaT3So"
      },
      "execution_count": null,
      "outputs": [
        {
          "output_type": "stream",
          "name": "stdout",
          "text": [
            "              precision    recall  f1-score   support\n",
            "\n",
            "          No       0.86      0.83      0.84      1136\n",
            "         Yes       0.74      0.79      0.76       712\n",
            "\n",
            "    accuracy                           0.81      1848\n",
            "   macro avg       0.80      0.81      0.80      1848\n",
            "weighted avg       0.82      0.81      0.81      1848\n",
            "\n"
          ]
        }
      ]
    },
    {
      "cell_type": "markdown",
      "source": [
        "**Notes:**\n",
        "\n",
        "Random Forest has a slight improvement in model accuracy and in some cases model performance."
      ],
      "metadata": {
        "id": "LIqBSfQsUB-5"
      }
    }
  ]
}